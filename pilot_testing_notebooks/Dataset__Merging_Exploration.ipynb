{
  "cells": [
    {
      "cell_type": "code",
      "execution_count": null,
      "metadata": {
        "id": "M-9LTnthgpkK"
      },
      "outputs": [],
      "source": [
        "import numpy as np\n",
        "import pandas as pd\n",
        "import matplotlib as plt"
      ]
    },
    {
      "cell_type": "markdown",
      "source": [
        "In order to load all 7 Million reviews at once, had to incrimentally add them to a growing Pandas Dataframe."
      ],
      "metadata": {
        "id": "2E9Wu_IALc0Z"
      }
    },
    {
      "cell_type": "code",
      "execution_count": null,
      "metadata": {
        "id": "z-N1LQ3UgpkQ"
      },
      "outputs": [],
      "source": [
        "reviews = pd.read_json('yelp_data.json', lines=True)"
      ]
    },
    {
      "cell_type": "code",
      "execution_count": null,
      "metadata": {
        "scrolled": true,
        "id": "aIH_khOHgpkQ",
        "outputId": "c61bcf7e-da3d-46e6-dfe3-af54f0383709"
      },
      "outputs": [
        {
          "data": {
            "text/html": [
              "<div>\n",
              "<style scoped>\n",
              "    .dataframe tbody tr th:only-of-type {\n",
              "        vertical-align: middle;\n",
              "    }\n",
              "\n",
              "    .dataframe tbody tr th {\n",
              "        vertical-align: top;\n",
              "    }\n",
              "\n",
              "    .dataframe thead th {\n",
              "        text-align: right;\n",
              "    }\n",
              "</style>\n",
              "<table border=\"1\" class=\"dataframe\">\n",
              "  <thead>\n",
              "    <tr style=\"text-align: right;\">\n",
              "      <th></th>\n",
              "      <th>review_id</th>\n",
              "      <th>user_id</th>\n",
              "      <th>business_id</th>\n",
              "      <th>stars</th>\n",
              "      <th>useful</th>\n",
              "      <th>funny</th>\n",
              "      <th>cool</th>\n",
              "      <th>text</th>\n",
              "      <th>date</th>\n",
              "    </tr>\n",
              "  </thead>\n",
              "  <tbody>\n",
              "    <tr>\n",
              "      <td>0</td>\n",
              "      <td>KU_O5udG6zpxOg-VcAEodg</td>\n",
              "      <td>mh_-eMZ6K5RLWhZyISBhwA</td>\n",
              "      <td>XQfwVwDr-v0ZS3_CbbE5Xw</td>\n",
              "      <td>3</td>\n",
              "      <td>0</td>\n",
              "      <td>0</td>\n",
              "      <td>0</td>\n",
              "      <td>If you decide to eat here, just be aware it is...</td>\n",
              "      <td>2018-07-07 22:09:11</td>\n",
              "    </tr>\n",
              "    <tr>\n",
              "      <td>1</td>\n",
              "      <td>BiTunyQ73aT9WBnpR9DZGw</td>\n",
              "      <td>OyoGAe7OKpv6SyGZT5g77Q</td>\n",
              "      <td>7ATYjTIgM3jUlt4UM3IypQ</td>\n",
              "      <td>5</td>\n",
              "      <td>1</td>\n",
              "      <td>0</td>\n",
              "      <td>1</td>\n",
              "      <td>I've taken a lot of spin classes over the year...</td>\n",
              "      <td>2012-01-03 15:28:18</td>\n",
              "    </tr>\n",
              "    <tr>\n",
              "      <td>2</td>\n",
              "      <td>saUsX_uimxRlCVr67Z4Jig</td>\n",
              "      <td>8g_iMtfSiwikVnbP2etR0A</td>\n",
              "      <td>YjUWPpI6HXG530lwP-fb2A</td>\n",
              "      <td>3</td>\n",
              "      <td>0</td>\n",
              "      <td>0</td>\n",
              "      <td>0</td>\n",
              "      <td>Family diner. Had the buffet. Eclectic assortm...</td>\n",
              "      <td>2014-02-05 20:30:30</td>\n",
              "    </tr>\n",
              "    <tr>\n",
              "      <td>3</td>\n",
              "      <td>AqPFMleE6RsU23_auESxiA</td>\n",
              "      <td>_7bHUi9Uuf5__HHc_Q8guQ</td>\n",
              "      <td>kxX2SOes4o-D3ZQBkiMRfA</td>\n",
              "      <td>5</td>\n",
              "      <td>1</td>\n",
              "      <td>0</td>\n",
              "      <td>1</td>\n",
              "      <td>Wow!  Yummy, different,  delicious.   Our favo...</td>\n",
              "      <td>2015-01-04 00:01:03</td>\n",
              "    </tr>\n",
              "    <tr>\n",
              "      <td>4</td>\n",
              "      <td>Sx8TMOWLNuJBWer-0pcmoA</td>\n",
              "      <td>bcjbaE6dDog4jkNY91ncLQ</td>\n",
              "      <td>e4Vwtrqf-wpJfwesgvdgxQ</td>\n",
              "      <td>4</td>\n",
              "      <td>1</td>\n",
              "      <td>0</td>\n",
              "      <td>1</td>\n",
              "      <td>Cute interior and owner (?) gave us tour of up...</td>\n",
              "      <td>2017-01-14 20:54:15</td>\n",
              "    </tr>\n",
              "  </tbody>\n",
              "</table>\n",
              "</div>"
            ],
            "text/plain": [
              "                review_id                 user_id             business_id  \\\n",
              "0  KU_O5udG6zpxOg-VcAEodg  mh_-eMZ6K5RLWhZyISBhwA  XQfwVwDr-v0ZS3_CbbE5Xw   \n",
              "1  BiTunyQ73aT9WBnpR9DZGw  OyoGAe7OKpv6SyGZT5g77Q  7ATYjTIgM3jUlt4UM3IypQ   \n",
              "2  saUsX_uimxRlCVr67Z4Jig  8g_iMtfSiwikVnbP2etR0A  YjUWPpI6HXG530lwP-fb2A   \n",
              "3  AqPFMleE6RsU23_auESxiA  _7bHUi9Uuf5__HHc_Q8guQ  kxX2SOes4o-D3ZQBkiMRfA   \n",
              "4  Sx8TMOWLNuJBWer-0pcmoA  bcjbaE6dDog4jkNY91ncLQ  e4Vwtrqf-wpJfwesgvdgxQ   \n",
              "\n",
              "   stars  useful  funny  cool  \\\n",
              "0      3       0      0     0   \n",
              "1      5       1      0     1   \n",
              "2      3       0      0     0   \n",
              "3      5       1      0     1   \n",
              "4      4       1      0     1   \n",
              "\n",
              "                                                text                date  \n",
              "0  If you decide to eat here, just be aware it is... 2018-07-07 22:09:11  \n",
              "1  I've taken a lot of spin classes over the year... 2012-01-03 15:28:18  \n",
              "2  Family diner. Had the buffet. Eclectic assortm... 2014-02-05 20:30:30  \n",
              "3  Wow!  Yummy, different,  delicious.   Our favo... 2015-01-04 00:01:03  \n",
              "4  Cute interior and owner (?) gave us tour of up... 2017-01-14 20:54:15  "
            ]
          },
          "execution_count": 3,
          "metadata": {},
          "output_type": "execute_result"
        }
      ],
      "source": [
        "reviews.head()"
      ]
    },
    {
      "cell_type": "code",
      "execution_count": null,
      "metadata": {
        "id": "PyWWOiVSgpkS"
      },
      "outputs": [],
      "source": [
        "reviews2 = pd.read_json('yelp_data2M.json', lines=True)"
      ]
    },
    {
      "cell_type": "code",
      "execution_count": null,
      "metadata": {
        "id": "SR_SKPJhgpkT"
      },
      "outputs": [],
      "source": [
        "reviews_full1 = pd.concat([reviews, reviews2])"
      ]
    },
    {
      "cell_type": "code",
      "execution_count": null,
      "metadata": {
        "id": "xUufNtojgpkU",
        "outputId": "5ce1bcd7-bd92-480e-f343-af69eb678686"
      },
      "outputs": [
        {
          "name": "stdout",
          "output_type": "stream",
          "text": [
            "<class 'pandas.core.frame.DataFrame'>\n",
            "Int64Index: 2000000 entries, 0 to 999999\n",
            "Data columns (total 9 columns):\n",
            "review_id      object\n",
            "user_id        object\n",
            "business_id    object\n",
            "stars          int64\n",
            "useful         int64\n",
            "funny          int64\n",
            "cool           int64\n",
            "text           object\n",
            "date           datetime64[ns]\n",
            "dtypes: datetime64[ns](1), int64(4), object(4)\n",
            "memory usage: 152.6+ MB\n"
          ]
        }
      ],
      "source": [
        "reviews_full1.info()"
      ]
    },
    {
      "cell_type": "code",
      "execution_count": null,
      "metadata": {
        "id": "VRpyKkvHgpkU"
      },
      "outputs": [],
      "source": [
        "reviews3 = pd.read_json('yelp_data3M.json', lines=True)"
      ]
    },
    {
      "cell_type": "code",
      "execution_count": null,
      "metadata": {
        "id": "SgKBCo6mgpkV"
      },
      "outputs": [],
      "source": [
        "reviews_full2 = pd.concat([reviews_full1, reviews3])"
      ]
    },
    {
      "cell_type": "code",
      "execution_count": null,
      "metadata": {
        "scrolled": true,
        "id": "lCYKVioJgpkW",
        "outputId": "aea488da-bd2e-46dc-9026-89d07aa9ccfa"
      },
      "outputs": [
        {
          "name": "stdout",
          "output_type": "stream",
          "text": [
            "<class 'pandas.core.frame.DataFrame'>\n",
            "Int64Index: 3000000 entries, 0 to 999999\n",
            "Data columns (total 9 columns):\n",
            "review_id      object\n",
            "user_id        object\n",
            "business_id    object\n",
            "stars          int64\n",
            "useful         int64\n",
            "funny          int64\n",
            "cool           int64\n",
            "text           object\n",
            "date           datetime64[ns]\n",
            "dtypes: datetime64[ns](1), int64(4), object(4)\n",
            "memory usage: 228.9+ MB\n"
          ]
        }
      ],
      "source": [
        "reviews_full2.info()"
      ]
    },
    {
      "cell_type": "code",
      "execution_count": null,
      "metadata": {
        "id": "3msgvGisgpkY"
      },
      "outputs": [],
      "source": [
        "reviews4 = pd.read_json('yelp_data4M.json', lines=True)"
      ]
    },
    {
      "cell_type": "code",
      "execution_count": null,
      "metadata": {
        "id": "q2AqAAjkgpkZ"
      },
      "outputs": [],
      "source": [
        "reviews_full4 = pd.concat([reviews_full2, reviews4])"
      ]
    },
    {
      "cell_type": "code",
      "execution_count": null,
      "metadata": {
        "id": "uiNdVUJrgpkZ",
        "outputId": "0ab2fd1e-990b-4d70-c00c-9a3b8b128244"
      },
      "outputs": [
        {
          "name": "stdout",
          "output_type": "stream",
          "text": [
            "<class 'pandas.core.frame.DataFrame'>\n",
            "Int64Index: 4000000 entries, 0 to 999999\n",
            "Data columns (total 9 columns):\n",
            "review_id      object\n",
            "user_id        object\n",
            "business_id    object\n",
            "stars          int64\n",
            "useful         int64\n",
            "funny          int64\n",
            "cool           int64\n",
            "text           object\n",
            "date           datetime64[ns]\n",
            "dtypes: datetime64[ns](1), int64(4), object(4)\n",
            "memory usage: 305.2+ MB\n"
          ]
        }
      ],
      "source": [
        "reviews_full4.info()"
      ]
    },
    {
      "cell_type": "code",
      "execution_count": null,
      "metadata": {
        "id": "XxA56Defgpkb"
      },
      "outputs": [],
      "source": [
        "reviews5 = pd.read_json('yelp_data5M.json', lines=True)"
      ]
    },
    {
      "cell_type": "code",
      "execution_count": null,
      "metadata": {
        "id": "BXcDOj71gpkb"
      },
      "outputs": [],
      "source": [
        "reviews_full5 = pd.concat([reviews_full4, reviews5])"
      ]
    },
    {
      "cell_type": "code",
      "execution_count": null,
      "metadata": {
        "id": "UwMOuvDjgpkb",
        "outputId": "75f866e4-db84-4228-def8-d5796315d1d0"
      },
      "outputs": [
        {
          "name": "stdout",
          "output_type": "stream",
          "text": [
            "<class 'pandas.core.frame.DataFrame'>\n",
            "Int64Index: 5000000 entries, 0 to 999999\n",
            "Data columns (total 9 columns):\n",
            "review_id      object\n",
            "user_id        object\n",
            "business_id    object\n",
            "stars          int64\n",
            "useful         int64\n",
            "funny          int64\n",
            "cool           int64\n",
            "text           object\n",
            "date           datetime64[ns]\n",
            "dtypes: datetime64[ns](1), int64(4), object(4)\n",
            "memory usage: 381.5+ MB\n"
          ]
        }
      ],
      "source": [
        "reviews_full5.info()"
      ]
    },
    {
      "cell_type": "code",
      "execution_count": null,
      "metadata": {
        "id": "RdPjpEiagpkc"
      },
      "outputs": [],
      "source": [
        "reviews6 = pd.read_json('yelp_data6M.json', lines=True)"
      ]
    },
    {
      "cell_type": "code",
      "execution_count": null,
      "metadata": {
        "id": "Yew73Pwwgpkc"
      },
      "outputs": [],
      "source": [
        "reviews_full6 = pd.concat([reviews_full5, reviews6])"
      ]
    },
    {
      "cell_type": "code",
      "execution_count": null,
      "metadata": {
        "id": "gwAbwMwqgpkc",
        "outputId": "76cdc7ab-0ab8-483c-aeb2-5a9c2a3260ef"
      },
      "outputs": [
        {
          "name": "stdout",
          "output_type": "stream",
          "text": [
            "<class 'pandas.core.frame.DataFrame'>\n",
            "Int64Index: 6000000 entries, 0 to 999999\n",
            "Data columns (total 9 columns):\n",
            "review_id      object\n",
            "user_id        object\n",
            "business_id    object\n",
            "stars          int64\n",
            "useful         int64\n",
            "funny          int64\n",
            "cool           int64\n",
            "text           object\n",
            "date           datetime64[ns]\n",
            "dtypes: datetime64[ns](1), int64(4), object(4)\n",
            "memory usage: 457.8+ MB\n"
          ]
        }
      ],
      "source": [
        "reviews_full6.info()"
      ]
    },
    {
      "cell_type": "code",
      "execution_count": null,
      "metadata": {
        "id": "tZzW8KARgpkc"
      },
      "outputs": [],
      "source": [
        "reviews7 = pd.read_json('yelp_data7M.json', lines=True)"
      ]
    },
    {
      "cell_type": "code",
      "execution_count": null,
      "metadata": {
        "id": "jD-igSF_gpkc"
      },
      "outputs": [],
      "source": [
        "reviews_full7 = pd.concat([reviews_full6, reviews7])"
      ]
    },
    {
      "cell_type": "code",
      "execution_count": null,
      "metadata": {
        "id": "IWcSQQfNgpkd",
        "outputId": "4516003f-cc90-490b-eb84-7546d9643446"
      },
      "outputs": [
        {
          "name": "stdout",
          "output_type": "stream",
          "text": [
            "<class 'pandas.core.frame.DataFrame'>\n",
            "Int64Index: 6990280 entries, 0 to 990279\n",
            "Data columns (total 9 columns):\n",
            "review_id      object\n",
            "user_id        object\n",
            "business_id    object\n",
            "stars          int64\n",
            "useful         int64\n",
            "funny          int64\n",
            "cool           int64\n",
            "text           object\n",
            "date           datetime64[ns]\n",
            "dtypes: datetime64[ns](1), int64(4), object(4)\n",
            "memory usage: 533.3+ MB\n"
          ]
        }
      ],
      "source": [
        "reviews_full7.info()"
      ]
    },
    {
      "cell_type": "markdown",
      "source": [
        "Once this was done, then merged the business info to each review so that we could group based on business attributes, such as location."
      ],
      "metadata": {
        "id": "9gcskqtALrM8"
      }
    },
    {
      "cell_type": "code",
      "execution_count": null,
      "metadata": {
        "id": "yxoHl6EAgpkd"
      },
      "outputs": [],
      "source": [
        "business = pd.read_json('yelp_academic_dataset_business.json', lines=True)"
      ]
    },
    {
      "cell_type": "code",
      "execution_count": null,
      "metadata": {
        "scrolled": false,
        "id": "5Dv9T-q1gpkd",
        "outputId": "7983b5e4-7a7f-4a80-a577-313d391f55bb"
      },
      "outputs": [
        {
          "data": {
            "text/html": [
              "<div>\n",
              "<style scoped>\n",
              "    .dataframe tbody tr th:only-of-type {\n",
              "        vertical-align: middle;\n",
              "    }\n",
              "\n",
              "    .dataframe tbody tr th {\n",
              "        vertical-align: top;\n",
              "    }\n",
              "\n",
              "    .dataframe thead th {\n",
              "        text-align: right;\n",
              "    }\n",
              "</style>\n",
              "<table border=\"1\" class=\"dataframe\">\n",
              "  <thead>\n",
              "    <tr style=\"text-align: right;\">\n",
              "      <th></th>\n",
              "      <th>business_id</th>\n",
              "      <th>name</th>\n",
              "      <th>address</th>\n",
              "      <th>city</th>\n",
              "      <th>state</th>\n",
              "      <th>postal_code</th>\n",
              "      <th>latitude</th>\n",
              "      <th>longitude</th>\n",
              "      <th>stars</th>\n",
              "      <th>review_count</th>\n",
              "      <th>is_open</th>\n",
              "      <th>attributes</th>\n",
              "      <th>categories</th>\n",
              "      <th>hours</th>\n",
              "    </tr>\n",
              "  </thead>\n",
              "  <tbody>\n",
              "    <tr>\n",
              "      <td>0</td>\n",
              "      <td>Pns2l4eNsfO8kk83dixA6A</td>\n",
              "      <td>Abby Rappoport, LAC, CMQ</td>\n",
              "      <td>1616 Chapala St, Ste 2</td>\n",
              "      <td>Santa Barbara</td>\n",
              "      <td>CA</td>\n",
              "      <td>93101</td>\n",
              "      <td>34.426679</td>\n",
              "      <td>-119.711197</td>\n",
              "      <td>5.0</td>\n",
              "      <td>7</td>\n",
              "      <td>0</td>\n",
              "      <td>{'ByAppointmentOnly': 'True'}</td>\n",
              "      <td>Doctors, Traditional Chinese Medicine, Naturop...</td>\n",
              "      <td>None</td>\n",
              "    </tr>\n",
              "    <tr>\n",
              "      <td>1</td>\n",
              "      <td>mpf3x-BjTdTEA3yCZrAYPw</td>\n",
              "      <td>The UPS Store</td>\n",
              "      <td>87 Grasso Plaza Shopping Center</td>\n",
              "      <td>Affton</td>\n",
              "      <td>MO</td>\n",
              "      <td>63123</td>\n",
              "      <td>38.551126</td>\n",
              "      <td>-90.335695</td>\n",
              "      <td>3.0</td>\n",
              "      <td>15</td>\n",
              "      <td>1</td>\n",
              "      <td>{'BusinessAcceptsCreditCards': 'True'}</td>\n",
              "      <td>Shipping Centers, Local Services, Notaries, Ma...</td>\n",
              "      <td>{'Monday': '0:0-0:0', 'Tuesday': '8:0-18:30', ...</td>\n",
              "    </tr>\n",
              "    <tr>\n",
              "      <td>2</td>\n",
              "      <td>tUFrWirKiKi_TAnsVWINQQ</td>\n",
              "      <td>Target</td>\n",
              "      <td>5255 E Broadway Blvd</td>\n",
              "      <td>Tucson</td>\n",
              "      <td>AZ</td>\n",
              "      <td>85711</td>\n",
              "      <td>32.223236</td>\n",
              "      <td>-110.880452</td>\n",
              "      <td>3.5</td>\n",
              "      <td>22</td>\n",
              "      <td>0</td>\n",
              "      <td>{'BikeParking': 'True', 'BusinessAcceptsCredit...</td>\n",
              "      <td>Department Stores, Shopping, Fashion, Home &amp; G...</td>\n",
              "      <td>{'Monday': '8:0-22:0', 'Tuesday': '8:0-22:0', ...</td>\n",
              "    </tr>\n",
              "    <tr>\n",
              "      <td>3</td>\n",
              "      <td>MTSW4McQd7CbVtyjqoe9mw</td>\n",
              "      <td>St Honore Pastries</td>\n",
              "      <td>935 Race St</td>\n",
              "      <td>Philadelphia</td>\n",
              "      <td>PA</td>\n",
              "      <td>19107</td>\n",
              "      <td>39.955505</td>\n",
              "      <td>-75.155564</td>\n",
              "      <td>4.0</td>\n",
              "      <td>80</td>\n",
              "      <td>1</td>\n",
              "      <td>{'RestaurantsDelivery': 'False', 'OutdoorSeati...</td>\n",
              "      <td>Restaurants, Food, Bubble Tea, Coffee &amp; Tea, B...</td>\n",
              "      <td>{'Monday': '7:0-20:0', 'Tuesday': '7:0-20:0', ...</td>\n",
              "    </tr>\n",
              "    <tr>\n",
              "      <td>4</td>\n",
              "      <td>mWMc6_wTdE0EUBKIGXDVfA</td>\n",
              "      <td>Perkiomen Valley Brewery</td>\n",
              "      <td>101 Walnut St</td>\n",
              "      <td>Green Lane</td>\n",
              "      <td>PA</td>\n",
              "      <td>18054</td>\n",
              "      <td>40.338183</td>\n",
              "      <td>-75.471659</td>\n",
              "      <td>4.5</td>\n",
              "      <td>13</td>\n",
              "      <td>1</td>\n",
              "      <td>{'BusinessAcceptsCreditCards': 'True', 'Wheelc...</td>\n",
              "      <td>Brewpubs, Breweries, Food</td>\n",
              "      <td>{'Wednesday': '14:0-22:0', 'Thursday': '16:0-2...</td>\n",
              "    </tr>\n",
              "  </tbody>\n",
              "</table>\n",
              "</div>"
            ],
            "text/plain": [
              "              business_id                      name  \\\n",
              "0  Pns2l4eNsfO8kk83dixA6A  Abby Rappoport, LAC, CMQ   \n",
              "1  mpf3x-BjTdTEA3yCZrAYPw             The UPS Store   \n",
              "2  tUFrWirKiKi_TAnsVWINQQ                    Target   \n",
              "3  MTSW4McQd7CbVtyjqoe9mw        St Honore Pastries   \n",
              "4  mWMc6_wTdE0EUBKIGXDVfA  Perkiomen Valley Brewery   \n",
              "\n",
              "                           address           city state postal_code  \\\n",
              "0           1616 Chapala St, Ste 2  Santa Barbara    CA       93101   \n",
              "1  87 Grasso Plaza Shopping Center         Affton    MO       63123   \n",
              "2             5255 E Broadway Blvd         Tucson    AZ       85711   \n",
              "3                      935 Race St   Philadelphia    PA       19107   \n",
              "4                    101 Walnut St     Green Lane    PA       18054   \n",
              "\n",
              "    latitude   longitude  stars  review_count  is_open  \\\n",
              "0  34.426679 -119.711197    5.0             7        0   \n",
              "1  38.551126  -90.335695    3.0            15        1   \n",
              "2  32.223236 -110.880452    3.5            22        0   \n",
              "3  39.955505  -75.155564    4.0            80        1   \n",
              "4  40.338183  -75.471659    4.5            13        1   \n",
              "\n",
              "                                          attributes  \\\n",
              "0                      {'ByAppointmentOnly': 'True'}   \n",
              "1             {'BusinessAcceptsCreditCards': 'True'}   \n",
              "2  {'BikeParking': 'True', 'BusinessAcceptsCredit...   \n",
              "3  {'RestaurantsDelivery': 'False', 'OutdoorSeati...   \n",
              "4  {'BusinessAcceptsCreditCards': 'True', 'Wheelc...   \n",
              "\n",
              "                                          categories  \\\n",
              "0  Doctors, Traditional Chinese Medicine, Naturop...   \n",
              "1  Shipping Centers, Local Services, Notaries, Ma...   \n",
              "2  Department Stores, Shopping, Fashion, Home & G...   \n",
              "3  Restaurants, Food, Bubble Tea, Coffee & Tea, B...   \n",
              "4                          Brewpubs, Breweries, Food   \n",
              "\n",
              "                                               hours  \n",
              "0                                               None  \n",
              "1  {'Monday': '0:0-0:0', 'Tuesday': '8:0-18:30', ...  \n",
              "2  {'Monday': '8:0-22:0', 'Tuesday': '8:0-22:0', ...  \n",
              "3  {'Monday': '7:0-20:0', 'Tuesday': '7:0-20:0', ...  \n",
              "4  {'Wednesday': '14:0-22:0', 'Thursday': '16:0-2...  "
            ]
          },
          "execution_count": 29,
          "metadata": {},
          "output_type": "execute_result"
        }
      ],
      "source": [
        "business.head()"
      ]
    },
    {
      "cell_type": "code",
      "execution_count": null,
      "metadata": {
        "id": "KbRRruHLgpkd"
      },
      "outputs": [],
      "source": [
        "full_revs = pd.merge(reviews_full7, business, on='business_id')"
      ]
    },
    {
      "cell_type": "code",
      "execution_count": null,
      "metadata": {
        "id": "C6VM-OMggpke",
        "outputId": "68d494dc-ee51-4237-c608-ea0e43927c71"
      },
      "outputs": [
        {
          "data": {
            "text/html": [
              "<div>\n",
              "<style scoped>\n",
              "    .dataframe tbody tr th:only-of-type {\n",
              "        vertical-align: middle;\n",
              "    }\n",
              "\n",
              "    .dataframe tbody tr th {\n",
              "        vertical-align: top;\n",
              "    }\n",
              "\n",
              "    .dataframe thead th {\n",
              "        text-align: right;\n",
              "    }\n",
              "</style>\n",
              "<table border=\"1\" class=\"dataframe\">\n",
              "  <thead>\n",
              "    <tr style=\"text-align: right;\">\n",
              "      <th></th>\n",
              "      <th>review_id</th>\n",
              "      <th>user_id</th>\n",
              "      <th>business_id</th>\n",
              "      <th>stars_x</th>\n",
              "      <th>useful</th>\n",
              "      <th>funny</th>\n",
              "      <th>cool</th>\n",
              "      <th>text</th>\n",
              "      <th>date</th>\n",
              "      <th>name</th>\n",
              "      <th>...</th>\n",
              "      <th>state</th>\n",
              "      <th>postal_code</th>\n",
              "      <th>latitude</th>\n",
              "      <th>longitude</th>\n",
              "      <th>stars_y</th>\n",
              "      <th>review_count</th>\n",
              "      <th>is_open</th>\n",
              "      <th>attributes</th>\n",
              "      <th>categories</th>\n",
              "      <th>hours</th>\n",
              "    </tr>\n",
              "  </thead>\n",
              "  <tbody>\n",
              "    <tr>\n",
              "      <td>0</td>\n",
              "      <td>KU_O5udG6zpxOg-VcAEodg</td>\n",
              "      <td>mh_-eMZ6K5RLWhZyISBhwA</td>\n",
              "      <td>XQfwVwDr-v0ZS3_CbbE5Xw</td>\n",
              "      <td>3</td>\n",
              "      <td>0</td>\n",
              "      <td>0</td>\n",
              "      <td>0</td>\n",
              "      <td>If you decide to eat here, just be aware it is...</td>\n",
              "      <td>2018-07-07 22:09:11</td>\n",
              "      <td>Turning Point of North Wales</td>\n",
              "      <td>...</td>\n",
              "      <td>PA</td>\n",
              "      <td>19454</td>\n",
              "      <td>40.210196</td>\n",
              "      <td>-75.223639</td>\n",
              "      <td>3.0</td>\n",
              "      <td>169</td>\n",
              "      <td>1</td>\n",
              "      <td>{'NoiseLevel': 'u'average'', 'HasTV': 'False',...</td>\n",
              "      <td>Restaurants, Breakfast &amp; Brunch, Food, Juice B...</td>\n",
              "      <td>{'Monday': '7:30-15:0', 'Tuesday': '7:30-15:0'...</td>\n",
              "    </tr>\n",
              "    <tr>\n",
              "      <td>1</td>\n",
              "      <td>VJxlBnJmCDIy8DFG0kjSow</td>\n",
              "      <td>Iaee7y6zdSB3B-kRCo4z1w</td>\n",
              "      <td>XQfwVwDr-v0ZS3_CbbE5Xw</td>\n",
              "      <td>2</td>\n",
              "      <td>0</td>\n",
              "      <td>0</td>\n",
              "      <td>0</td>\n",
              "      <td>This is the second time we tried turning point...</td>\n",
              "      <td>2017-05-13 17:06:55</td>\n",
              "      <td>Turning Point of North Wales</td>\n",
              "      <td>...</td>\n",
              "      <td>PA</td>\n",
              "      <td>19454</td>\n",
              "      <td>40.210196</td>\n",
              "      <td>-75.223639</td>\n",
              "      <td>3.0</td>\n",
              "      <td>169</td>\n",
              "      <td>1</td>\n",
              "      <td>{'NoiseLevel': 'u'average'', 'HasTV': 'False',...</td>\n",
              "      <td>Restaurants, Breakfast &amp; Brunch, Food, Juice B...</td>\n",
              "      <td>{'Monday': '7:30-15:0', 'Tuesday': '7:30-15:0'...</td>\n",
              "    </tr>\n",
              "    <tr>\n",
              "      <td>2</td>\n",
              "      <td>S6pQZQocMB1WHMjTRbt77A</td>\n",
              "      <td>ejFxLGqQcWNLdNByJlIhnQ</td>\n",
              "      <td>XQfwVwDr-v0ZS3_CbbE5Xw</td>\n",
              "      <td>4</td>\n",
              "      <td>2</td>\n",
              "      <td>0</td>\n",
              "      <td>1</td>\n",
              "      <td>The place is cute and the staff was very frien...</td>\n",
              "      <td>2017-08-08 00:58:18</td>\n",
              "      <td>Turning Point of North Wales</td>\n",
              "      <td>...</td>\n",
              "      <td>PA</td>\n",
              "      <td>19454</td>\n",
              "      <td>40.210196</td>\n",
              "      <td>-75.223639</td>\n",
              "      <td>3.0</td>\n",
              "      <td>169</td>\n",
              "      <td>1</td>\n",
              "      <td>{'NoiseLevel': 'u'average'', 'HasTV': 'False',...</td>\n",
              "      <td>Restaurants, Breakfast &amp; Brunch, Food, Juice B...</td>\n",
              "      <td>{'Monday': '7:30-15:0', 'Tuesday': '7:30-15:0'...</td>\n",
              "    </tr>\n",
              "    <tr>\n",
              "      <td>3</td>\n",
              "      <td>WqgTKVqWVHDHjnjEsBvUgg</td>\n",
              "      <td>f7xa0p_1V9lx53iIGN5Sug</td>\n",
              "      <td>XQfwVwDr-v0ZS3_CbbE5Xw</td>\n",
              "      <td>3</td>\n",
              "      <td>0</td>\n",
              "      <td>0</td>\n",
              "      <td>0</td>\n",
              "      <td>We came on a Saturday morning after waiting a ...</td>\n",
              "      <td>2017-11-19 02:20:23</td>\n",
              "      <td>Turning Point of North Wales</td>\n",
              "      <td>...</td>\n",
              "      <td>PA</td>\n",
              "      <td>19454</td>\n",
              "      <td>40.210196</td>\n",
              "      <td>-75.223639</td>\n",
              "      <td>3.0</td>\n",
              "      <td>169</td>\n",
              "      <td>1</td>\n",
              "      <td>{'NoiseLevel': 'u'average'', 'HasTV': 'False',...</td>\n",
              "      <td>Restaurants, Breakfast &amp; Brunch, Food, Juice B...</td>\n",
              "      <td>{'Monday': '7:30-15:0', 'Tuesday': '7:30-15:0'...</td>\n",
              "    </tr>\n",
              "    <tr>\n",
              "      <td>4</td>\n",
              "      <td>M0wzFFb7pefOPcxeRVbLag</td>\n",
              "      <td>dCooFVCk8M1nVaQqcfTL3Q</td>\n",
              "      <td>XQfwVwDr-v0ZS3_CbbE5Xw</td>\n",
              "      <td>2</td>\n",
              "      <td>0</td>\n",
              "      <td>0</td>\n",
              "      <td>0</td>\n",
              "      <td>Mediocre at best. The decor is very nice, and ...</td>\n",
              "      <td>2017-09-09 17:49:47</td>\n",
              "      <td>Turning Point of North Wales</td>\n",
              "      <td>...</td>\n",
              "      <td>PA</td>\n",
              "      <td>19454</td>\n",
              "      <td>40.210196</td>\n",
              "      <td>-75.223639</td>\n",
              "      <td>3.0</td>\n",
              "      <td>169</td>\n",
              "      <td>1</td>\n",
              "      <td>{'NoiseLevel': 'u'average'', 'HasTV': 'False',...</td>\n",
              "      <td>Restaurants, Breakfast &amp; Brunch, Food, Juice B...</td>\n",
              "      <td>{'Monday': '7:30-15:0', 'Tuesday': '7:30-15:0'...</td>\n",
              "    </tr>\n",
              "  </tbody>\n",
              "</table>\n",
              "<p>5 rows × 22 columns</p>\n",
              "</div>"
            ],
            "text/plain": [
              "                review_id                 user_id             business_id  \\\n",
              "0  KU_O5udG6zpxOg-VcAEodg  mh_-eMZ6K5RLWhZyISBhwA  XQfwVwDr-v0ZS3_CbbE5Xw   \n",
              "1  VJxlBnJmCDIy8DFG0kjSow  Iaee7y6zdSB3B-kRCo4z1w  XQfwVwDr-v0ZS3_CbbE5Xw   \n",
              "2  S6pQZQocMB1WHMjTRbt77A  ejFxLGqQcWNLdNByJlIhnQ  XQfwVwDr-v0ZS3_CbbE5Xw   \n",
              "3  WqgTKVqWVHDHjnjEsBvUgg  f7xa0p_1V9lx53iIGN5Sug  XQfwVwDr-v0ZS3_CbbE5Xw   \n",
              "4  M0wzFFb7pefOPcxeRVbLag  dCooFVCk8M1nVaQqcfTL3Q  XQfwVwDr-v0ZS3_CbbE5Xw   \n",
              "\n",
              "   stars_x  useful  funny  cool  \\\n",
              "0        3       0      0     0   \n",
              "1        2       0      0     0   \n",
              "2        4       2      0     1   \n",
              "3        3       0      0     0   \n",
              "4        2       0      0     0   \n",
              "\n",
              "                                                text                date  \\\n",
              "0  If you decide to eat here, just be aware it is... 2018-07-07 22:09:11   \n",
              "1  This is the second time we tried turning point... 2017-05-13 17:06:55   \n",
              "2  The place is cute and the staff was very frien... 2017-08-08 00:58:18   \n",
              "3  We came on a Saturday morning after waiting a ... 2017-11-19 02:20:23   \n",
              "4  Mediocre at best. The decor is very nice, and ... 2017-09-09 17:49:47   \n",
              "\n",
              "                           name  ... state postal_code   latitude  longitude  \\\n",
              "0  Turning Point of North Wales  ...    PA       19454  40.210196 -75.223639   \n",
              "1  Turning Point of North Wales  ...    PA       19454  40.210196 -75.223639   \n",
              "2  Turning Point of North Wales  ...    PA       19454  40.210196 -75.223639   \n",
              "3  Turning Point of North Wales  ...    PA       19454  40.210196 -75.223639   \n",
              "4  Turning Point of North Wales  ...    PA       19454  40.210196 -75.223639   \n",
              "\n",
              "   stars_y  review_count  is_open  \\\n",
              "0      3.0           169        1   \n",
              "1      3.0           169        1   \n",
              "2      3.0           169        1   \n",
              "3      3.0           169        1   \n",
              "4      3.0           169        1   \n",
              "\n",
              "                                          attributes  \\\n",
              "0  {'NoiseLevel': 'u'average'', 'HasTV': 'False',...   \n",
              "1  {'NoiseLevel': 'u'average'', 'HasTV': 'False',...   \n",
              "2  {'NoiseLevel': 'u'average'', 'HasTV': 'False',...   \n",
              "3  {'NoiseLevel': 'u'average'', 'HasTV': 'False',...   \n",
              "4  {'NoiseLevel': 'u'average'', 'HasTV': 'False',...   \n",
              "\n",
              "                                          categories  \\\n",
              "0  Restaurants, Breakfast & Brunch, Food, Juice B...   \n",
              "1  Restaurants, Breakfast & Brunch, Food, Juice B...   \n",
              "2  Restaurants, Breakfast & Brunch, Food, Juice B...   \n",
              "3  Restaurants, Breakfast & Brunch, Food, Juice B...   \n",
              "4  Restaurants, Breakfast & Brunch, Food, Juice B...   \n",
              "\n",
              "                                               hours  \n",
              "0  {'Monday': '7:30-15:0', 'Tuesday': '7:30-15:0'...  \n",
              "1  {'Monday': '7:30-15:0', 'Tuesday': '7:30-15:0'...  \n",
              "2  {'Monday': '7:30-15:0', 'Tuesday': '7:30-15:0'...  \n",
              "3  {'Monday': '7:30-15:0', 'Tuesday': '7:30-15:0'...  \n",
              "4  {'Monday': '7:30-15:0', 'Tuesday': '7:30-15:0'...  \n",
              "\n",
              "[5 rows x 22 columns]"
            ]
          },
          "execution_count": 35,
          "metadata": {},
          "output_type": "execute_result"
        }
      ],
      "source": [
        "full_revs.head()"
      ]
    },
    {
      "cell_type": "markdown",
      "source": [
        "## Exploring the Data:\n",
        "\n",
        "trying to see which Business/Restaurant Categories are most common"
      ],
      "metadata": {
        "id": "q0vTIto-MtcM"
      }
    },
    {
      "cell_type": "code",
      "execution_count": null,
      "metadata": {
        "id": "Jg0XKHWTgpke"
      },
      "outputs": [],
      "source": [
        "cat_counts = full_revs['categories'].value_counts()"
      ]
    },
    {
      "cell_type": "code",
      "execution_count": null,
      "metadata": {
        "scrolled": true,
        "id": "SXYBoRkFgpke",
        "outputId": "6e30a789-a905-4f43-a7da-d9e50681feca"
      },
      "outputs": [
        {
          "data": {
            "text/plain": [
              "Mexican, Restaurants          54938\n",
              "Restaurants, Mexican          54872\n",
              "Restaurants, Pizza            33984\n",
              "Pizza, Restaurants            29508\n",
              "Beauty & Spas, Nail Salons    28734\n",
              "Name: categories, dtype: int64"
            ]
          },
          "execution_count": 37,
          "metadata": {},
          "output_type": "execute_result"
        }
      ],
      "source": [
        "cat_counts.head()"
      ]
    },
    {
      "cell_type": "markdown",
      "source": [
        "Attempt to Filter Businesses based on Geographic Latitude/Longitude"
      ],
      "metadata": {
        "id": "TFjudPkyM6c1"
      }
    },
    {
      "cell_type": "code",
      "execution_count": null,
      "metadata": {
        "id": "sTcNGXWLgpkf"
      },
      "outputs": [],
      "source": [
        "#Chat GPT\n",
        "# Define the latitude and longitude range: Southern california\n",
        "min_latitude = 32.30\n",
        "max_latitude = 35.00\n",
        "min_longitude = -120.00\n",
        "max_longitude = -116.00\n",
        "\n",
        "# Filter the DataFrame based on the range\n",
        "filtered_df = full_revs[(full_revs['latitude'] >= min_latitude) & (full_revs['latitude'] <= max_latitude)] #&\n",
        "                  #(full_revs['longitude'] >= min_longitude) & (full_revs['longitude'] <= max_longitude)]"
      ]
    },
    {
      "cell_type": "code",
      "execution_count": null,
      "metadata": {
        "scrolled": true,
        "id": "-lYza4X9gpkf",
        "outputId": "4215ce6b-6bce-4187-82b9-c318d86228b2"
      },
      "outputs": [
        {
          "data": {
            "text/plain": [
              "Los Agaves                         5192\n",
              "Brophy Bros - Santa Barbara        3003\n",
              "Boathouse at Hendry's Beach        2588\n",
              "Santa Barbara Shellfish Company    2444\n",
              "Pickles & Swiss                    2060\n",
              "                                   ... \n",
              "L'Occitane en Provence                5\n",
              "Helzberg Diamonds                     5\n",
              "Mt. Lemmon SkyCenter                  5\n",
              "Furniture Santa Barbara               5\n",
              "Costa's Auto Works                    5\n",
              "Name: name, Length: 6596, dtype: int64"
            ]
          },
          "execution_count": 39,
          "metadata": {},
          "output_type": "execute_result"
        }
      ],
      "source": [
        "filtered_df['name'].value_counts()"
      ]
    },
    {
      "cell_type": "code",
      "execution_count": null,
      "metadata": {
        "id": "9adFd0vtgpkg"
      },
      "outputs": [],
      "source": [
        "count_series = filtered_df.groupby('name')['name'].transform('count')\n",
        "\n",
        "# Filter the DataFrame based on the desired count\n",
        "filtered_df2 = filtered_df[count_series >= 10]"
      ]
    },
    {
      "cell_type": "code",
      "execution_count": null,
      "metadata": {
        "scrolled": true,
        "id": "ApCdSPNvgpkg",
        "outputId": "9f2f64cc-c640-4737-ea40-62946bf5e874"
      },
      "outputs": [
        {
          "data": {
            "text/html": [
              "<div>\n",
              "<style scoped>\n",
              "    .dataframe tbody tr th:only-of-type {\n",
              "        vertical-align: middle;\n",
              "    }\n",
              "\n",
              "    .dataframe tbody tr th {\n",
              "        vertical-align: top;\n",
              "    }\n",
              "\n",
              "    .dataframe thead th {\n",
              "        text-align: right;\n",
              "    }\n",
              "</style>\n",
              "<table border=\"1\" class=\"dataframe\">\n",
              "  <thead>\n",
              "    <tr style=\"text-align: right;\">\n",
              "      <th></th>\n",
              "      <th>review_id</th>\n",
              "      <th>user_id</th>\n",
              "      <th>business_id</th>\n",
              "      <th>stars_x</th>\n",
              "      <th>useful</th>\n",
              "      <th>funny</th>\n",
              "      <th>cool</th>\n",
              "      <th>text</th>\n",
              "      <th>date</th>\n",
              "      <th>name</th>\n",
              "      <th>...</th>\n",
              "      <th>state</th>\n",
              "      <th>postal_code</th>\n",
              "      <th>latitude</th>\n",
              "      <th>longitude</th>\n",
              "      <th>stars_y</th>\n",
              "      <th>review_count</th>\n",
              "      <th>is_open</th>\n",
              "      <th>attributes</th>\n",
              "      <th>categories</th>\n",
              "      <th>hours</th>\n",
              "    </tr>\n",
              "  </thead>\n",
              "  <tbody>\n",
              "    <tr>\n",
              "      <td>1362</td>\n",
              "      <td>ZKvDG2sBvHVdF5oBNUOpAQ</td>\n",
              "      <td>wSTuiTk-sKNdcFyprzZAjg</td>\n",
              "      <td>B5XSoSG3SfvQGtKEGQ1tSQ</td>\n",
              "      <td>3</td>\n",
              "      <td>1</td>\n",
              "      <td>1</td>\n",
              "      <td>0</td>\n",
              "      <td>This easter instead of going to Lopez Lake we ...</td>\n",
              "      <td>2016-03-30 22:46:33</td>\n",
              "      <td>Los Padres National Forest</td>\n",
              "      <td>...</td>\n",
              "      <td>CA</td>\n",
              "      <td>93105</td>\n",
              "      <td>34.597239</td>\n",
              "      <td>-119.510772</td>\n",
              "      <td>4.5</td>\n",
              "      <td>13</td>\n",
              "      <td>1</td>\n",
              "      <td>{'GoodForKids': 'True', 'BikeParking': 'True',...</td>\n",
              "      <td>Parks, Active Life</td>\n",
              "      <td>None</td>\n",
              "    </tr>\n",
              "    <tr>\n",
              "      <td>1363</td>\n",
              "      <td>9ag-bC-521T1i3IypXr4Ug</td>\n",
              "      <td>sx_cqxyWRUoOIoy_AXmLdQ</td>\n",
              "      <td>B5XSoSG3SfvQGtKEGQ1tSQ</td>\n",
              "      <td>4</td>\n",
              "      <td>1</td>\n",
              "      <td>0</td>\n",
              "      <td>0</td>\n",
              "      <td>I work with a college group that does camping ...</td>\n",
              "      <td>2013-09-07 21:16:36</td>\n",
              "      <td>Los Padres National Forest</td>\n",
              "      <td>...</td>\n",
              "      <td>CA</td>\n",
              "      <td>93105</td>\n",
              "      <td>34.597239</td>\n",
              "      <td>-119.510772</td>\n",
              "      <td>4.5</td>\n",
              "      <td>13</td>\n",
              "      <td>1</td>\n",
              "      <td>{'GoodForKids': 'True', 'BikeParking': 'True',...</td>\n",
              "      <td>Parks, Active Life</td>\n",
              "      <td>None</td>\n",
              "    </tr>\n",
              "    <tr>\n",
              "      <td>1364</td>\n",
              "      <td>80p5xO3dbpd80T6vPTL8DQ</td>\n",
              "      <td>D7ct4p7uUk5t4LFSjVnO4A</td>\n",
              "      <td>B5XSoSG3SfvQGtKEGQ1tSQ</td>\n",
              "      <td>5</td>\n",
              "      <td>0</td>\n",
              "      <td>0</td>\n",
              "      <td>0</td>\n",
              "      <td>My SO and I love exploring new trails and so i...</td>\n",
              "      <td>2018-08-05 21:50:27</td>\n",
              "      <td>Los Padres National Forest</td>\n",
              "      <td>...</td>\n",
              "      <td>CA</td>\n",
              "      <td>93105</td>\n",
              "      <td>34.597239</td>\n",
              "      <td>-119.510772</td>\n",
              "      <td>4.5</td>\n",
              "      <td>13</td>\n",
              "      <td>1</td>\n",
              "      <td>{'GoodForKids': 'True', 'BikeParking': 'True',...</td>\n",
              "      <td>Parks, Active Life</td>\n",
              "      <td>None</td>\n",
              "    </tr>\n",
              "    <tr>\n",
              "      <td>1365</td>\n",
              "      <td>RScubg9WIp165432dQfVHQ</td>\n",
              "      <td>r9VkVP_4d2_KMHA9ZN2c6w</td>\n",
              "      <td>B5XSoSG3SfvQGtKEGQ1tSQ</td>\n",
              "      <td>5</td>\n",
              "      <td>14</td>\n",
              "      <td>9</td>\n",
              "      <td>13</td>\n",
              "      <td>I can't believe there's only one review for th...</td>\n",
              "      <td>2011-07-06 23:14:29</td>\n",
              "      <td>Los Padres National Forest</td>\n",
              "      <td>...</td>\n",
              "      <td>CA</td>\n",
              "      <td>93105</td>\n",
              "      <td>34.597239</td>\n",
              "      <td>-119.510772</td>\n",
              "      <td>4.5</td>\n",
              "      <td>13</td>\n",
              "      <td>1</td>\n",
              "      <td>{'GoodForKids': 'True', 'BikeParking': 'True',...</td>\n",
              "      <td>Parks, Active Life</td>\n",
              "      <td>None</td>\n",
              "    </tr>\n",
              "    <tr>\n",
              "      <td>1366</td>\n",
              "      <td>_JsMDKDQJ8uc6logHxA0-w</td>\n",
              "      <td>s0l9vVweCwvudj5TNGMl6w</td>\n",
              "      <td>B5XSoSG3SfvQGtKEGQ1tSQ</td>\n",
              "      <td>5</td>\n",
              "      <td>1</td>\n",
              "      <td>0</td>\n",
              "      <td>0</td>\n",
              "      <td>I love this area for hiking! I go there all th...</td>\n",
              "      <td>2016-04-03 03:24:46</td>\n",
              "      <td>Los Padres National Forest</td>\n",
              "      <td>...</td>\n",
              "      <td>CA</td>\n",
              "      <td>93105</td>\n",
              "      <td>34.597239</td>\n",
              "      <td>-119.510772</td>\n",
              "      <td>4.5</td>\n",
              "      <td>13</td>\n",
              "      <td>1</td>\n",
              "      <td>{'GoodForKids': 'True', 'BikeParking': 'True',...</td>\n",
              "      <td>Parks, Active Life</td>\n",
              "      <td>None</td>\n",
              "    </tr>\n",
              "    <tr>\n",
              "      <td>...</td>\n",
              "      <td>...</td>\n",
              "      <td>...</td>\n",
              "      <td>...</td>\n",
              "      <td>...</td>\n",
              "      <td>...</td>\n",
              "      <td>...</td>\n",
              "      <td>...</td>\n",
              "      <td>...</td>\n",
              "      <td>...</td>\n",
              "      <td>...</td>\n",
              "      <td>...</td>\n",
              "      <td>...</td>\n",
              "      <td>...</td>\n",
              "      <td>...</td>\n",
              "      <td>...</td>\n",
              "      <td>...</td>\n",
              "      <td>...</td>\n",
              "      <td>...</td>\n",
              "      <td>...</td>\n",
              "      <td>...</td>\n",
              "      <td>...</td>\n",
              "    </tr>\n",
              "    <tr>\n",
              "      <td>6988150</td>\n",
              "      <td>1Zhbvxdm864S2HcL8BpXZQ</td>\n",
              "      <td>ESNU8cp_QjU4HZwpbDam_w</td>\n",
              "      <td>kyX6GgYDlgS7mH2vPZ22AQ</td>\n",
              "      <td>5</td>\n",
              "      <td>0</td>\n",
              "      <td>0</td>\n",
              "      <td>0</td>\n",
              "      <td>Dr Rogers is friendly, upbeat and knowledgeabl...</td>\n",
              "      <td>2021-08-04 16:07:51</td>\n",
              "      <td>Alexandra Rogers, MD</td>\n",
              "      <td>...</td>\n",
              "      <td>CA</td>\n",
              "      <td>93110</td>\n",
              "      <td>34.450155</td>\n",
              "      <td>-119.760105</td>\n",
              "      <td>5.0</td>\n",
              "      <td>10</td>\n",
              "      <td>1</td>\n",
              "      <td>None</td>\n",
              "      <td>Urologists, Doctors, Health &amp; Medical</td>\n",
              "      <td>None</td>\n",
              "    </tr>\n",
              "    <tr>\n",
              "      <td>6988151</td>\n",
              "      <td>No7Zzi7uhyoL4miSkcgrZA</td>\n",
              "      <td>VSaePmxk-hmIxENKuf0e2g</td>\n",
              "      <td>kyX6GgYDlgS7mH2vPZ22AQ</td>\n",
              "      <td>5</td>\n",
              "      <td>0</td>\n",
              "      <td>0</td>\n",
              "      <td>0</td>\n",
              "      <td>Excellent doctor and staff - do not hesitate t...</td>\n",
              "      <td>2021-07-02 18:13:57</td>\n",
              "      <td>Alexandra Rogers, MD</td>\n",
              "      <td>...</td>\n",
              "      <td>CA</td>\n",
              "      <td>93110</td>\n",
              "      <td>34.450155</td>\n",
              "      <td>-119.760105</td>\n",
              "      <td>5.0</td>\n",
              "      <td>10</td>\n",
              "      <td>1</td>\n",
              "      <td>None</td>\n",
              "      <td>Urologists, Doctors, Health &amp; Medical</td>\n",
              "      <td>None</td>\n",
              "    </tr>\n",
              "    <tr>\n",
              "      <td>6988152</td>\n",
              "      <td>Zv5y9-o5aA_hh-w-glcalQ</td>\n",
              "      <td>0yZaCOv149QEEGwPgqqF7A</td>\n",
              "      <td>kyX6GgYDlgS7mH2vPZ22AQ</td>\n",
              "      <td>5</td>\n",
              "      <td>0</td>\n",
              "      <td>0</td>\n",
              "      <td>0</td>\n",
              "      <td>Without a doubt Dr. Rogers, is by far one of t...</td>\n",
              "      <td>2021-09-15 02:15:21</td>\n",
              "      <td>Alexandra Rogers, MD</td>\n",
              "      <td>...</td>\n",
              "      <td>CA</td>\n",
              "      <td>93110</td>\n",
              "      <td>34.450155</td>\n",
              "      <td>-119.760105</td>\n",
              "      <td>5.0</td>\n",
              "      <td>10</td>\n",
              "      <td>1</td>\n",
              "      <td>None</td>\n",
              "      <td>Urologists, Doctors, Health &amp; Medical</td>\n",
              "      <td>None</td>\n",
              "    </tr>\n",
              "    <tr>\n",
              "      <td>6988153</td>\n",
              "      <td>2NrvbQvYjp6QNTD3U4KecA</td>\n",
              "      <td>i22dHhNeMqRXHTZmKrrobw</td>\n",
              "      <td>kyX6GgYDlgS7mH2vPZ22AQ</td>\n",
              "      <td>4</td>\n",
              "      <td>0</td>\n",
              "      <td>0</td>\n",
              "      <td>0</td>\n",
              "      <td>Dr. Rogers provided has provided excellent car...</td>\n",
              "      <td>2021-05-15 19:27:44</td>\n",
              "      <td>Alexandra Rogers, MD</td>\n",
              "      <td>...</td>\n",
              "      <td>CA</td>\n",
              "      <td>93110</td>\n",
              "      <td>34.450155</td>\n",
              "      <td>-119.760105</td>\n",
              "      <td>5.0</td>\n",
              "      <td>10</td>\n",
              "      <td>1</td>\n",
              "      <td>None</td>\n",
              "      <td>Urologists, Doctors, Health &amp; Medical</td>\n",
              "      <td>None</td>\n",
              "    </tr>\n",
              "    <tr>\n",
              "      <td>6988154</td>\n",
              "      <td>NdfLWFU21SJxoi_xDkl91Q</td>\n",
              "      <td>5ZYxX2206Z5i58HhNFgtgw</td>\n",
              "      <td>kyX6GgYDlgS7mH2vPZ22AQ</td>\n",
              "      <td>5</td>\n",
              "      <td>0</td>\n",
              "      <td>0</td>\n",
              "      <td>0</td>\n",
              "      <td>I had a great first visit with Dr. Rogers toda...</td>\n",
              "      <td>2021-06-07 20:06:48</td>\n",
              "      <td>Alexandra Rogers, MD</td>\n",
              "      <td>...</td>\n",
              "      <td>CA</td>\n",
              "      <td>93110</td>\n",
              "      <td>34.450155</td>\n",
              "      <td>-119.760105</td>\n",
              "      <td>5.0</td>\n",
              "      <td>10</td>\n",
              "      <td>1</td>\n",
              "      <td>None</td>\n",
              "      <td>Urologists, Doctors, Health &amp; Medical</td>\n",
              "      <td>None</td>\n",
              "    </tr>\n",
              "  </tbody>\n",
              "</table>\n",
              "<p>427682 rows × 22 columns</p>\n",
              "</div>"
            ],
            "text/plain": [
              "                      review_id                 user_id  \\\n",
              "1362     ZKvDG2sBvHVdF5oBNUOpAQ  wSTuiTk-sKNdcFyprzZAjg   \n",
              "1363     9ag-bC-521T1i3IypXr4Ug  sx_cqxyWRUoOIoy_AXmLdQ   \n",
              "1364     80p5xO3dbpd80T6vPTL8DQ  D7ct4p7uUk5t4LFSjVnO4A   \n",
              "1365     RScubg9WIp165432dQfVHQ  r9VkVP_4d2_KMHA9ZN2c6w   \n",
              "1366     _JsMDKDQJ8uc6logHxA0-w  s0l9vVweCwvudj5TNGMl6w   \n",
              "...                         ...                     ...   \n",
              "6988150  1Zhbvxdm864S2HcL8BpXZQ  ESNU8cp_QjU4HZwpbDam_w   \n",
              "6988151  No7Zzi7uhyoL4miSkcgrZA  VSaePmxk-hmIxENKuf0e2g   \n",
              "6988152  Zv5y9-o5aA_hh-w-glcalQ  0yZaCOv149QEEGwPgqqF7A   \n",
              "6988153  2NrvbQvYjp6QNTD3U4KecA  i22dHhNeMqRXHTZmKrrobw   \n",
              "6988154  NdfLWFU21SJxoi_xDkl91Q  5ZYxX2206Z5i58HhNFgtgw   \n",
              "\n",
              "                    business_id  stars_x  useful  funny  cool  \\\n",
              "1362     B5XSoSG3SfvQGtKEGQ1tSQ        3       1      1     0   \n",
              "1363     B5XSoSG3SfvQGtKEGQ1tSQ        4       1      0     0   \n",
              "1364     B5XSoSG3SfvQGtKEGQ1tSQ        5       0      0     0   \n",
              "1365     B5XSoSG3SfvQGtKEGQ1tSQ        5      14      9    13   \n",
              "1366     B5XSoSG3SfvQGtKEGQ1tSQ        5       1      0     0   \n",
              "...                         ...      ...     ...    ...   ...   \n",
              "6988150  kyX6GgYDlgS7mH2vPZ22AQ        5       0      0     0   \n",
              "6988151  kyX6GgYDlgS7mH2vPZ22AQ        5       0      0     0   \n",
              "6988152  kyX6GgYDlgS7mH2vPZ22AQ        5       0      0     0   \n",
              "6988153  kyX6GgYDlgS7mH2vPZ22AQ        4       0      0     0   \n",
              "6988154  kyX6GgYDlgS7mH2vPZ22AQ        5       0      0     0   \n",
              "\n",
              "                                                      text  \\\n",
              "1362     This easter instead of going to Lopez Lake we ...   \n",
              "1363     I work with a college group that does camping ...   \n",
              "1364     My SO and I love exploring new trails and so i...   \n",
              "1365     I can't believe there's only one review for th...   \n",
              "1366     I love this area for hiking! I go there all th...   \n",
              "...                                                    ...   \n",
              "6988150  Dr Rogers is friendly, upbeat and knowledgeabl...   \n",
              "6988151  Excellent doctor and staff - do not hesitate t...   \n",
              "6988152  Without a doubt Dr. Rogers, is by far one of t...   \n",
              "6988153  Dr. Rogers provided has provided excellent car...   \n",
              "6988154  I had a great first visit with Dr. Rogers toda...   \n",
              "\n",
              "                       date                        name  ... state  \\\n",
              "1362    2016-03-30 22:46:33  Los Padres National Forest  ...    CA   \n",
              "1363    2013-09-07 21:16:36  Los Padres National Forest  ...    CA   \n",
              "1364    2018-08-05 21:50:27  Los Padres National Forest  ...    CA   \n",
              "1365    2011-07-06 23:14:29  Los Padres National Forest  ...    CA   \n",
              "1366    2016-04-03 03:24:46  Los Padres National Forest  ...    CA   \n",
              "...                     ...                         ...  ...   ...   \n",
              "6988150 2021-08-04 16:07:51        Alexandra Rogers, MD  ...    CA   \n",
              "6988151 2021-07-02 18:13:57        Alexandra Rogers, MD  ...    CA   \n",
              "6988152 2021-09-15 02:15:21        Alexandra Rogers, MD  ...    CA   \n",
              "6988153 2021-05-15 19:27:44        Alexandra Rogers, MD  ...    CA   \n",
              "6988154 2021-06-07 20:06:48        Alexandra Rogers, MD  ...    CA   \n",
              "\n",
              "        postal_code   latitude   longitude  stars_y  review_count  is_open  \\\n",
              "1362          93105  34.597239 -119.510772      4.5            13        1   \n",
              "1363          93105  34.597239 -119.510772      4.5            13        1   \n",
              "1364          93105  34.597239 -119.510772      4.5            13        1   \n",
              "1365          93105  34.597239 -119.510772      4.5            13        1   \n",
              "1366          93105  34.597239 -119.510772      4.5            13        1   \n",
              "...             ...        ...         ...      ...           ...      ...   \n",
              "6988150       93110  34.450155 -119.760105      5.0            10        1   \n",
              "6988151       93110  34.450155 -119.760105      5.0            10        1   \n",
              "6988152       93110  34.450155 -119.760105      5.0            10        1   \n",
              "6988153       93110  34.450155 -119.760105      5.0            10        1   \n",
              "6988154       93110  34.450155 -119.760105      5.0            10        1   \n",
              "\n",
              "                                                attributes  \\\n",
              "1362     {'GoodForKids': 'True', 'BikeParking': 'True',...   \n",
              "1363     {'GoodForKids': 'True', 'BikeParking': 'True',...   \n",
              "1364     {'GoodForKids': 'True', 'BikeParking': 'True',...   \n",
              "1365     {'GoodForKids': 'True', 'BikeParking': 'True',...   \n",
              "1366     {'GoodForKids': 'True', 'BikeParking': 'True',...   \n",
              "...                                                    ...   \n",
              "6988150                                               None   \n",
              "6988151                                               None   \n",
              "6988152                                               None   \n",
              "6988153                                               None   \n",
              "6988154                                               None   \n",
              "\n",
              "                                    categories hours  \n",
              "1362                        Parks, Active Life  None  \n",
              "1363                        Parks, Active Life  None  \n",
              "1364                        Parks, Active Life  None  \n",
              "1365                        Parks, Active Life  None  \n",
              "1366                        Parks, Active Life  None  \n",
              "...                                        ...   ...  \n",
              "6988150  Urologists, Doctors, Health & Medical  None  \n",
              "6988151  Urologists, Doctors, Health & Medical  None  \n",
              "6988152  Urologists, Doctors, Health & Medical  None  \n",
              "6988153  Urologists, Doctors, Health & Medical  None  \n",
              "6988154  Urologists, Doctors, Health & Medical  None  \n",
              "\n",
              "[427682 rows x 22 columns]"
            ]
          },
          "execution_count": 41,
          "metadata": {},
          "output_type": "execute_result"
        }
      ],
      "source": [
        "filtered_df2"
      ]
    },
    {
      "cell_type": "code",
      "execution_count": null,
      "metadata": {
        "id": "i0PWKFaMgpkh"
      },
      "outputs": [],
      "source": [
        "filtered_df_restaurants = filtered_df2[filtered_df2['categories'].str.contains('Restaurants', case=False)]"
      ]
    },
    {
      "cell_type": "code",
      "execution_count": null,
      "metadata": {
        "id": "CqiD_fpIgpkh",
        "outputId": "483e6639-191f-4b98-b60c-e66aca93655f"
      },
      "outputs": [
        {
          "name": "stdout",
          "output_type": "stream",
          "text": [
            "<class 'pandas.core.frame.DataFrame'>\n",
            "Int64Index: 266991 entries, 1375 to 6981999\n",
            "Data columns (total 22 columns):\n",
            "review_id       266991 non-null object\n",
            "user_id         266991 non-null object\n",
            "business_id     266991 non-null object\n",
            "stars_x         266991 non-null int64\n",
            "useful          266991 non-null int64\n",
            "funny           266991 non-null int64\n",
            "cool            266991 non-null int64\n",
            "text            266991 non-null object\n",
            "date            266991 non-null datetime64[ns]\n",
            "name            266991 non-null object\n",
            "address         266991 non-null object\n",
            "city            266991 non-null object\n",
            "state           266991 non-null object\n",
            "postal_code     266991 non-null object\n",
            "latitude        266991 non-null float64\n",
            "longitude       266991 non-null float64\n",
            "stars_y         266991 non-null float64\n",
            "review_count    266991 non-null int64\n",
            "is_open         266991 non-null int64\n",
            "attributes      266965 non-null object\n",
            "categories      266991 non-null object\n",
            "hours           258708 non-null object\n",
            "dtypes: datetime64[ns](1), float64(3), int64(6), object(12)\n",
            "memory usage: 46.9+ MB\n"
          ]
        }
      ],
      "source": [
        "filtered_df_restaurants.info()"
      ]
    },
    {
      "cell_type": "markdown",
      "source": [
        "This resulting filtered dataframe is all reviews specifically for restaurants in an area that approximates Southern California"
      ],
      "metadata": {
        "id": "_2-y4S35NDAM"
      }
    },
    {
      "cell_type": "code",
      "execution_count": null,
      "metadata": {
        "id": "FQ64kmrsgpkh"
      },
      "outputs": [],
      "source": [
        "#Chat GPT\n",
        "# Define the latitude and longitude range\n",
        "min_latitude = 32.30\n",
        "max_latitude = 35.00\n",
        "min_longitude = -74.50\n",
        "max_longitude = -73.50\n",
        "\n",
        "# Filter the DataFrame based on the range\n",
        "filtered_nyc = full_revs[(full_revs['latitude'] >= min_latitude) & (full_revs['latitude'] <= max_latitude)] #&\n",
        "                  #(full_revs['longitude'] >= min_longitude) & (full_revs['longitude'] <= max_longitude)]"
      ]
    },
    {
      "cell_type": "code",
      "execution_count": null,
      "metadata": {
        "id": "LIdAuxqmgpki",
        "outputId": "9b7d14c7-ce2c-4969-d8e4-414473eb7880"
      },
      "outputs": [
        {
          "name": "stdout",
          "output_type": "stream",
          "text": [
            "<class 'pandas.core.frame.DataFrame'>\n",
            "Int64Index: 59488 entries, 1362 to 999992\n",
            "Data columns (total 22 columns):\n",
            "review_id       59488 non-null object\n",
            "user_id         59488 non-null object\n",
            "business_id     59488 non-null object\n",
            "stars_x         59488 non-null int64\n",
            "useful          59488 non-null int64\n",
            "funny           59488 non-null int64\n",
            "cool            59488 non-null int64\n",
            "text            59488 non-null object\n",
            "date            59488 non-null datetime64[ns]\n",
            "name            59488 non-null object\n",
            "address         59488 non-null object\n",
            "city            59488 non-null object\n",
            "state           59488 non-null object\n",
            "postal_code     59488 non-null object\n",
            "latitude        59488 non-null float64\n",
            "longitude       59488 non-null float64\n",
            "stars_y         59488 non-null float64\n",
            "review_count    59488 non-null int64\n",
            "is_open         59488 non-null int64\n",
            "attributes      58525 non-null object\n",
            "categories      59488 non-null object\n",
            "hours           55828 non-null object\n",
            "dtypes: datetime64[ns](1), float64(3), int64(6), object(12)\n",
            "memory usage: 10.4+ MB\n"
          ]
        }
      ],
      "source": [
        "filtered_nyc.info()"
      ]
    },
    {
      "cell_type": "code",
      "execution_count": null,
      "metadata": {
        "id": "4-F77AIkgpki"
      },
      "outputs": [],
      "source": [
        "state_counts = full_revs['state'].value_counts()"
      ]
    },
    {
      "cell_type": "code",
      "execution_count": null,
      "metadata": {
        "id": "FdgOSoIVgpki",
        "outputId": "7d31600b-96fd-4f7f-8a44-dea836425804"
      },
      "outputs": [
        {
          "data": {
            "text/plain": [
              "PA     1598960\n",
              "FL     1161545\n",
              "LA      761673\n",
              "TN      614388\n",
              "MO      502385\n",
              "IN      489752\n",
              "AZ      431708\n",
              "NV      430678\n",
              "CA      348856\n",
              "NJ      260897\n",
              "ID      157572\n",
              "AB      109436\n",
              "DE       70302\n",
              "IL       51832\n",
              "MA          44\n",
              "SD          42\n",
              "TX          35\n",
              "HI          34\n",
              "CO          31\n",
              "NC          29\n",
              "WA          19\n",
              "UT          19\n",
              "VI          11\n",
              "MI          11\n",
              "VT          10\n",
              "MT           6\n",
              "XMS          5\n",
              "Name: state, dtype: int64"
            ]
          },
          "execution_count": 45,
          "metadata": {},
          "output_type": "execute_result"
        }
      ],
      "source": [
        "state_counts"
      ]
    }
  ],
  "metadata": {
    "kernelspec": {
      "display_name": "Python 3",
      "language": "python",
      "name": "python3"
    },
    "language_info": {
      "codemirror_mode": {
        "name": "ipython",
        "version": 3
      },
      "file_extension": ".py",
      "mimetype": "text/x-python",
      "name": "python",
      "nbconvert_exporter": "python",
      "pygments_lexer": "ipython3",
      "version": "3.7.4"
    },
    "colab": {
      "provenance": []
    }
  },
  "nbformat": 4,
  "nbformat_minor": 0
}